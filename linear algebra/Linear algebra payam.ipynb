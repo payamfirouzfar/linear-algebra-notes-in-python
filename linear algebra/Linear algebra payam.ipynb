{
 "cells": [
  {
   "cell_type": "markdown",
   "metadata": {},
   "source": [
    "#  <font color='purple'>Linear ALgebra</font>\n",
    "### THis is the linear and arithmatics in python\n",
    "\n"
   ]
  },
  {
   "cell_type": "code",
   "execution_count": 22,
   "metadata": {},
   "outputs": [],
   "source": [
    "import numpy as np"
   ]
  },
  {
   "cell_type": "markdown",
   "metadata": {},
   "source": [
    "#  <font color='purple'>Making Matrices</font>"
   ]
  },
  {
   "cell_type": "code",
   "execution_count": 25,
   "metadata": {},
   "outputs": [
    {
     "name": "stdout",
     "output_type": "stream",
     "text": [
      "[[1 2 3]\n",
      " [4 5 6]] [[1 2 3]\n",
      " [4 5 6]\n",
      " [7 8 9]]\n"
     ]
    }
   ],
   "source": [
    "###  first lets make a matrix\n",
    "\n",
    "\n",
    "A = np.array([[1,2,3],\n",
    "             [4,5,6]])\n",
    "\n",
    "B = np.array([[1,2,3],\n",
    "             [4,5,6],\n",
    "             [7,8,9]])\n",
    "print(A,B)"
   ]
  },
  {
   "cell_type": "markdown",
   "metadata": {},
   "source": [
    "#  <font color='purple'>Matrix multiplication</font>"
   ]
  },
  {
   "cell_type": "code",
   "execution_count": 27,
   "metadata": {},
   "outputs": [
    {
     "data": {
      "text/plain": [
       "array([[30, 36, 42],\n",
       "       [66, 81, 96]])"
      ]
     },
     "execution_count": 27,
     "metadata": {},
     "output_type": "execute_result"
    }
   ],
   "source": [
    "A @ B"
   ]
  },
  {
   "cell_type": "markdown",
   "metadata": {},
   "source": [
    "#  <font color = \"purple\">Reshape Matrices</font>"
   ]
  },
  {
   "cell_type": "code",
   "execution_count": 5,
   "metadata": {},
   "outputs": [
    {
     "data": {
      "text/plain": [
       "array([[[ 27, 101,  98, ...,  65, 243,  79],\n",
       "        [106, 110, 248, ...,  53,  75, 120],\n",
       "        [100, 249, 114, ..., 238, 179,  84],\n",
       "        ...,\n",
       "        [232, 219, 251, ..., 193,  85, 221],\n",
       "        [129, 246,  50, ..., 193, 102,  87],\n",
       "        [246,  10, 227, ...,  65,  44,  28]],\n",
       "\n",
       "       [[  0, 231,  97, ..., 116, 236,   2],\n",
       "        [171,  66,  92, ...,  85, 172,  16],\n",
       "        [235, 223, 126, ...,  13, 103, 223],\n",
       "        ...,\n",
       "        [208, 110, 184, ..., 124, 236, 212],\n",
       "        [134, 221,   0, ..., 217,  62, 183],\n",
       "        [ 84, 225, 222, ...,  53, 241, 181]],\n",
       "\n",
       "       [[ 93, 247,  63, ..., 215, 240, 208],\n",
       "        [ 12, 254, 247, ...,  70,  85,   9],\n",
       "        [ 68, 139,  69, ..., 115, 117,  33],\n",
       "        ...,\n",
       "        [159,  38,  47, ...,  61,  38,  69],\n",
       "        [155, 227, 187, ..., 252, 241, 132],\n",
       "        [157,  32,  16, ...,  88, 185,  59]],\n",
       "\n",
       "       ...,\n",
       "\n",
       "       [[227,  91, 202, ..., 150, 200, 227],\n",
       "        [244, 164, 137, ..., 109, 146,  74],\n",
       "        [ 95, 122, 101, ...,  56,  24, 133],\n",
       "        ...,\n",
       "        [145,  96,  96, ..., 235, 167,   2],\n",
       "        [153,  80, 129, ..., 140, 102, 153],\n",
       "        [ 14,  74,  61, ..., 223, 146, 209]],\n",
       "\n",
       "       [[ 63,  31,  40, ...,  46, 239,  95],\n",
       "        [ 61, 205, 179, ..., 217, 170, 204],\n",
       "        [193, 241,  57, ..., 136, 235, 252],\n",
       "        ...,\n",
       "        [234,  88,  58, ..., 186, 150, 105],\n",
       "        [170,  21, 222, ..., 204, 119, 213],\n",
       "        [ 36, 141, 190, ..., 198, 205, 103]],\n",
       "\n",
       "       [[ 58, 153, 196, ..., 132, 210,  69],\n",
       "        [144,  56, 209, ...,  42,  86, 162],\n",
       "        [ 63, 236, 131, ..., 120,  13, 167],\n",
       "        ...,\n",
       "        [101, 111,  12, ..., 202,  98,  85],\n",
       "        [  0,  36, 226, ..., 162, 253,  89],\n",
       "        [201,   7, 184, ...,  27, 253,  43]]])"
      ]
     },
     "execution_count": 5,
     "metadata": {},
     "output_type": "execute_result"
    }
   ],
   "source": [
    "b=np.random.randint(0,255,54880000)\n",
    "image=np.reshape(b,(70000 , 28  , 28))\n",
    "image"
   ]
  },
  {
   "cell_type": "markdown",
   "metadata": {},
   "source": [
    "# <font color = \"purple\">eigen values and eigenvectors</font>"
   ]
  },
  {
   "cell_type": "code",
   "execution_count": 6,
   "metadata": {},
   "outputs": [
    {
     "name": "stdout",
     "output_type": "stream",
     "text": [
      "[[   1. 1000.]\n",
      " [   0.    1.]]\n",
      "[[1.e+00 1.e+03]\n",
      " [1.e-03 1.e+00]]\n"
     ]
    },
    {
     "data": {
      "text/plain": [
       "array([   1., 1000.])"
      ]
     },
     "execution_count": 6,
     "metadata": {},
     "output_type": "execute_result"
    }
   ],
   "source": [
    "import scipy.linalg as la \n",
    "\n",
    "A = np.array([[1., 1000], [0, 1]])\n",
    "B = np.array([[1, 1000], [0.001, 1]])\n",
    "\n",
    "print(A)\n",
    "\n",
    "print(B)\n",
    "A[0]"
   ]
  },
  {
   "cell_type": "markdown",
   "metadata": {},
   "source": [
    "# <font color = \"purple\">we use scipy.linear algebra(linalg) library for linear algebra</font>\n",
    "\n",
    "<font color = \"blue\">we use la.eig(A) for producing eig values and vectors</font>"
   ]
  },
  {
   "cell_type": "code",
   "execution_count": 7,
   "metadata": {},
   "outputs": [],
   "source": [
    "np.set_printoptions(suppress=True, precision=4)"
   ]
  },
  {
   "cell_type": "code",
   "execution_count": 8,
   "metadata": {},
   "outputs": [
    {
     "data": {
      "text/plain": [
       "(array([1.+0.j, 1.+0.j]), array([2.+0.j, 0.+0.j]))"
      ]
     },
     "execution_count": 8,
     "metadata": {},
     "output_type": "execute_result"
    }
   ],
   "source": [
    "wA, vrA = la.eig(A)\n",
    "wB, vrB = la.eig(B)\n",
    "\n",
    "wA, wB , "
   ]
  },
  {
   "cell_type": "markdown",
   "metadata": {},
   "source": [
    "#  <font color='purple'>SVD</font>"
   ]
  },
  {
   "cell_type": "code",
   "execution_count": 9,
   "metadata": {},
   "outputs": [
    {
     "name": "stdout",
     "output_type": "stream",
     "text": [
      "Wall time: 135 ms\n"
     ]
    }
   ],
   "source": [
    "import scipy.linalg as la\n",
    "g=np.random.randint(0,255,30)\n",
    "g=np.reshape(g,( 6  , 5))\n",
    "g.shape\n",
    "\n",
    "%time U, s, Vh = la.svd(g, full_matrices=False)"
   ]
  },
  {
   "cell_type": "code",
   "execution_count": 10,
   "metadata": {},
   "outputs": [],
   "source": [
    "reconstruvted_vectors = U @ np.diag(s) @ Vh\n"
   ]
  },
  {
   "cell_type": "markdown",
   "metadata": {},
   "source": [
    "#  <font color='purple'>plot singular values</font>"
   ]
  },
  {
   "cell_type": "code",
   "execution_count": 28,
   "metadata": {},
   "outputs": [],
   "source": [
    "import matplotlib.pyplot as plt\n",
    "plt.plot(s)    # سینگولر ولیو ها از بزرگ هستند همین جور کوچک میشن \n",
    "%matplotlib inline"
   ]
  },
  {
   "cell_type": "markdown",
   "metadata": {},
   "source": [
    "#  <font color='purple'>Norms</font>\n",
    "\n",
    "###  <font color='blue'>You can change the norm by changing the ord</font>"
   ]
  },
  {
   "cell_type": "code",
   "execution_count": 12,
   "metadata": {},
   "outputs": [
    {
     "data": {
      "text/plain": [
       "5.052603395320109e-13"
      ]
     },
     "execution_count": 12,
     "metadata": {},
     "output_type": "execute_result"
    }
   ],
   "source": [
    "norm  = np.linalg.norm(reconstruvted_vectors - g)\n",
    "norm"
   ]
  },
  {
   "cell_type": "markdown",
   "metadata": {},
   "source": [
    "### <font color = \"purple\">numpy.allclose(a, b, rtol=1e-05, atol=1e-08, equal_nan=False).</font>\n",
    "\n",
    "<font color = \"purple\">Returns True if two arrays are element-wise equal within a tolerance.</font>\n"
   ]
  },
  {
   "cell_type": "markdown",
   "metadata": {},
   "source": [
    "#  <font color='purple'>Orthonormals</font>"
   ]
  },
  {
   "cell_type": "code",
   "execution_count": 29,
   "metadata": {},
   "outputs": [
    {
     "data": {
      "text/plain": [
       "True"
      ]
     },
     "execution_count": 29,
     "metadata": {},
     "output_type": "execute_result"
    }
   ],
   "source": [
    "y=(U@U.T).shape[0]\n",
    "y\n",
    "np.allclose(Vh@ Vh.T , np.eye(Vh.shape[0]) ) # np.eye is Identity matrix in shape of Vh@Vh.T  because vh should be row orthonormal\n",
    "\n",
    "np.allclose(U.T@ U , np.eye(U.shape[1]) ) # np.eye is Identity matrix in shape of U.T@U  because U should be column orthonormal\n",
    "\n",
    "\n"
   ]
  },
  {
   "cell_type": "code",
   "execution_count": 30,
   "metadata": {},
   "outputs": [],
   "source": [
    "np.set_printoptions(suppress=True) #این باعث میشه که اعشارای خیلی زیاد مثلا یک ضربدر ده به توان منفی 15 صفر بشه"
   ]
  },
  {
   "cell_type": "code",
   "execution_count": 31,
   "metadata": {},
   "outputs": [
    {
     "data": {
      "text/plain": [
       "array([[ 1.,  0., -0., -0.,  0.],\n",
       "       [ 0.,  1., -0., -0., -0.],\n",
       "       [-0., -0.,  1.,  0., -0.],\n",
       "       [-0., -0.,  0.,  1.,  0.],\n",
       "       [ 0., -0., -0.,  0.,  1.]])"
      ]
     },
     "execution_count": 31,
     "metadata": {},
     "output_type": "execute_result"
    }
   ],
   "source": [
    "U.T@ U"
   ]
  },
  {
   "cell_type": "markdown",
   "metadata": {},
   "source": [
    "### <font color = \"purple\">نکات پایتونی</font>"
   ]
  },
  {
   "cell_type": "raw",
   "metadata": {},
   "source": [
    "# list[<start>:<stop>:<step>]\n",
    "So, when you do a[::-1], it starts from the end towards the first taking each element. \n",
    "So it reverses a. This is applicable for lists/tuples as well\n",
    ">>> a = '1234'\n",
    ">>> a[::-1]\n",
    "'4321'"
   ]
  },
  {
   "cell_type": "code",
   "execution_count": 32,
   "metadata": {},
   "outputs": [
    {
     "name": "stdout",
     "output_type": "stream",
     "text": [
      "22\n"
     ]
    }
   ],
   "source": [
    "def myfunc(n):\n",
    "  return lambda a : a * n\n",
    "\n",
    "mydoubler = myfunc(2)\n",
    "mydoubler\n",
    "\n",
    "print(mydoubler(11))"
   ]
  },
  {
   "cell_type": "markdown",
   "metadata": {},
   "source": [
    "### <font color = \"purple\"> numpy.argsort(a, axis=-1, kind=None, order=None)</font>\n",
    "### <font color = \"purple\">Returns the indices that would sort an array.</font>\n",
    "\n"
   ]
  },
  {
   "cell_type": "code",
   "execution_count": 21,
   "metadata": {},
   "outputs": [
    {
     "data": {
      "text/plain": [
       "array([1, 2, 0], dtype=int64)"
      ]
     },
     "execution_count": 21,
     "metadata": {},
     "output_type": "execute_result"
    }
   ],
   "source": [
    "x = np.array([3, 1, 2])\n",
    "np.argsort(x, axis=-1, kind=None, order=None)\n",
    "np.argsort(x)"
   ]
  },
  {
   "cell_type": "markdown",
   "metadata": {},
   "source": [
    "### <font color = \"purple\">numpy.where(condition,[x, y])</font>\n",
    "\n",
    "##### <font color = \"blue\">Return elements chosen from x or y depending on condition.</font>"
   ]
  },
  {
   "cell_type": "code",
   "execution_count": 33,
   "metadata": {},
   "outputs": [],
   "source": [
    "D = np.array([[2,3],\n",
    "            [4,6],\n",
    "            [8,9]])"
   ]
  },
  {
   "cell_type": "code",
   "execution_count": 34,
   "metadata": {},
   "outputs": [
    {
     "data": {
      "text/plain": [
       "array([[ 4,  9],\n",
       "       [16, 36],\n",
       "       [64, 81]])"
      ]
     },
     "execution_count": 34,
     "metadata": {},
     "output_type": "execute_result"
    }
   ],
   "source": [
    "D*D # عدد های متناطر رو در هم ضرب میکنه"
   ]
  },
  {
   "cell_type": "markdown",
   "metadata": {},
   "source": [
    "#  <font color='purple'>How to save a matrix result and use it in future. (It's like saving deep learning results) </font>"
   ]
  },
  {
   "cell_type": "code",
   "execution_count": 35,
   "metadata": {},
   "outputs": [],
   "source": [
    "import numpy as np\n",
    "A = np.array([[1,2,3],\n",
    "             [4,5,6]])\n",
    "G = A*A"
   ]
  },
  {
   "cell_type": "code",
   "execution_count": 36,
   "metadata": {},
   "outputs": [],
   "source": [
    "np.save(\"zarb A dar A\" , G)  # وقتی عملات یه کار زیاده و نتیجشو میخوای نگه داری که وقتی فایلتو باز کردی اونو دگ لود نکنه"
   ]
  },
  {
   "cell_type": "code",
   "execution_count": 37,
   "metadata": {},
   "outputs": [
    {
     "data": {
      "text/plain": [
       "array([[ 1,  4,  9],\n",
       "       [16, 25, 36]])"
      ]
     },
     "execution_count": 37,
     "metadata": {},
     "output_type": "execute_result"
    }
   ],
   "source": [
    "n =np.load(\"zarb A dar A.npy\")\n",
    "n"
   ]
  }
 ],
 "metadata": {
  "kernelspec": {
   "display_name": "Python 3",
   "language": "python",
   "name": "python3"
  },
  "language_info": {
   "codemirror_mode": {
    "name": "ipython",
    "version": 3
   },
   "file_extension": ".py",
   "mimetype": "text/x-python",
   "name": "python",
   "nbconvert_exporter": "python",
   "pygments_lexer": "ipython3",
   "version": "3.6.5"
  }
 },
 "nbformat": 4,
 "nbformat_minor": 2
}
